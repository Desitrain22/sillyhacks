{
 "cells": [
  {
   "cell_type": "code",
   "execution_count": 5,
   "metadata": {},
   "outputs": [
    {
     "name": "stdout",
     "output_type": "stream",
     "text": [
      "https://locations.tacobell.com/al.html\n",
      "https://locations.tacobell.com/ak.html\n",
      "https://locations.tacobell.com/az.html\n",
      "https://locations.tacobell.com/ar.html\n",
      "https://locations.tacobell.com/ca.html\n",
      "https://locations.tacobell.com/co.html\n",
      "https://locations.tacobell.com/ct.html\n",
      "https://locations.tacobell.com/de.html\n",
      "https://locations.tacobell.com/fl.html\n",
      "https://locations.tacobell.com/ga.html\n",
      "https://locations.tacobell.com/hi.html\n",
      "https://locations.tacobell.com/id.html\n",
      "https://locations.tacobell.com/il.html\n",
      "https://locations.tacobell.com/in.html\n",
      "https://locations.tacobell.com/ia.html\n",
      "https://locations.tacobell.com/ks.html\n",
      "https://locations.tacobell.com/ky.html\n",
      "https://locations.tacobell.com/la.html\n",
      "https://locations.tacobell.com/me.html\n",
      "https://locations.tacobell.com/md.html\n",
      "https://locations.tacobell.com/ma.html\n",
      "https://locations.tacobell.com/mi.html\n",
      "https://locations.tacobell.com/mn.html\n",
      "https://locations.tacobell.com/ms.html\n",
      "https://locations.tacobell.com/mo.html\n",
      "https://locations.tacobell.com/mt.html\n",
      "https://locations.tacobell.com/ne.html\n",
      "https://locations.tacobell.com/nv.html\n",
      "https://locations.tacobell.com/nh.html\n",
      "https://locations.tacobell.com/nj.html\n",
      "https://locations.tacobell.com/nm.html\n",
      "https://locations.tacobell.com/ny.html\n",
      "https://locations.tacobell.com/nc.html\n",
      "https://locations.tacobell.com/nd.html\n",
      "https://locations.tacobell.com/oh.html\n",
      "https://locations.tacobell.com/ok.html\n",
      "https://locations.tacobell.com/or.html\n",
      "https://locations.tacobell.com/pa.html\n",
      "https://locations.tacobell.com/ri.html\n",
      "https://locations.tacobell.com/sc.html\n",
      "https://locations.tacobell.com/sd.html\n",
      "https://locations.tacobell.com/tn.html\n",
      "https://locations.tacobell.com/tx.html\n",
      "https://locations.tacobell.com/ut.html\n",
      "https://locations.tacobell.com/vt.html\n",
      "https://locations.tacobell.com/va.html\n",
      "https://locations.tacobell.com/wa.html\n",
      "https://locations.tacobell.com/dc/washington.html\n",
      "https://locations.tacobell.com/wv.html\n",
      "https://locations.tacobell.com/wi.html\n",
      "https://locations.tacobell.com/wy.html\n"
     ]
    }
   ],
   "source": [
    "import requests\n",
    "from bs4 import BeautifulSoup\n",
    "\n",
    "def get_taco_bell_states():\n",
    "    url = 'https://locations.tacobell.com/'\n",
    "\n",
    "    # Fetch the content of the webpage\n",
    "    response = requests.get(url)\n",
    "    webpage = response.content\n",
    "\n",
    "    # Parse the fetched webpage content\n",
    "    soup = BeautifulSoup(webpage, 'html.parser')\n",
    "\n",
    "    # Find all <li> elements with the class 'Directory-listItem'\n",
    "    list_items = soup.find_all('li', class_='Directory-listItem')\n",
    "\n",
    "    # Extract and print all links from these <li> elements\n",
    "    for item in list_items:\n",
    "        # Find all <a> tags within each <li> element\n",
    "        links = item.find_all('a')\n",
    "        for link in links:\n",
    "            # Extract and print the href attribute (the URL)\n",
    "            print(url+link.get('href'))\n"
   ]
  },
  {
   "cell_type": "code",
   "execution_count": null,
   "metadata": {},
   "outputs": [],
   "source": []
  }
 ],
 "metadata": {
  "kernelspec": {
   "display_name": "nba",
   "language": "python",
   "name": "python3"
  },
  "language_info": {
   "codemirror_mode": {
    "name": "ipython",
    "version": 3
   },
   "file_extension": ".py",
   "mimetype": "text/x-python",
   "name": "python",
   "nbconvert_exporter": "python",
   "pygments_lexer": "ipython3",
   "version": "3.10.9"
  }
 },
 "nbformat": 4,
 "nbformat_minor": 2
}
